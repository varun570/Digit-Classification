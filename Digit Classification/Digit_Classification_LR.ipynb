{
  "cells": [
    {
      "cell_type": "markdown",
      "metadata": {
        "id": "YDkn--vjlx9I"
      },
      "source": [
        "# Digit Classification \n",
        "\n",
        "**Instructions:**\n",
        "\n",
        "The objective is to identify each of a large set of binary images as one of the digits from 0 to 9. Each character has 200 instances (a total of 2000 instances) and each sample is described with 298 attributes. So your features are not pixels but these attributes.\n",
        "\n",
        "These attributes come in separate files:\n",
        "1. mfeat-fou: 76 Fourier coefficients of the character shapes;\n",
        "2. mfeat-fac: 216 profile correlations;\n",
        "3. mfeat-mor: 6 morphological features"
      ]
    },
    {
      "cell_type": "code",
      "execution_count": null,
      "metadata": {
        "id": "ESkR74DMID3W"
      },
      "outputs": [],
      "source": [
        "import pandas as pd\n",
        "import numpy as np\n",
        "from sklearn.linear_model import LogisticRegression\n",
        "from sklearn.model_selection import GridSearchCV\n",
        "from sklearn.model_selection import StratifiedKFold\n",
        "from sklearn.pipeline import Pipeline\n",
        "from sklearn.preprocessing import StandardScaler\n",
        "from sklearn.metrics import classification_report"
      ]
    },
    {
      "cell_type": "markdown",
      "metadata": {
        "id": "qfxLzQ4Li8Xm"
      },
      "source": [
        "You can download the dataset (attributes) as follows:"
      ]
    },
    {
      "cell_type": "code",
      "execution_count": null,
      "metadata": {
        "id": "ZX3s56xor_jy"
      },
      "outputs": [],
      "source": [
        "help(pd.concat)"
      ]
    },
    {
      "cell_type": "code",
      "execution_count": null,
      "metadata": {
        "id": "Qo80Q5w1hBdm",
        "outputId": "5e913dfa-64c0-4a3b-bc21-392f661da6f4",
        "colab": {
          "base_uri": "https://localhost:8080/"
        }
      },
      "outputs": [
        {
          "output_type": "stream",
          "name": "stdout",
          "text": [
            "fatal: destination path 'DATA602repo' already exists and is not an empty directory.\n"
          ]
        }
      ],
      "source": [
        "!git clone https://github.com/cvrg-iyte/DATA602repo.git\n",
        "import pandas as pd\n",
        "#names = ['mpg', 'cylinders', 'displacement', 'hp', 'weight', 'acc', 'year', 'origin', 'carname']\n",
        "data1 = pd.read_csv(\"./DATA602repo/mfeat-fou\", header=None, delim_whitespace=True)\n",
        "data2 = pd.read_csv(\"./DATA602repo/mfeat-fac\", header=None, delim_whitespace=True)\n",
        "data3 = pd.read_csv(\"./DATA602repo/mfeat-mor\", header=None, delim_whitespace=True)"
      ]
    },
    {
      "cell_type": "markdown",
      "metadata": {
        "id": "7IBAp8mWkWCj"
      },
      "source": [
        "In each file, first 200 samples are of class 0, followed by sets of 200 samples for each of the classes 1 to 9. Please create your target variable (y) first.\n",
        "\n",
        "You will build a ML system to predict which digit is a given sample. You are supposed to try different classification methods and apply best practices we have seen in the lectures such as grid search, cross validation, regularization etc."
      ]
    },
    {
      "cell_type": "code",
      "source": [
        "# Number of instances per class\n",
        "num_instances = 200\n",
        "\n",
        "# Create target variable\n",
        "y = np.zeros(num_instances * 10, dtype=int)\n",
        "\n",
        "for i in range(10):\n",
        "    y[i*num_instances:(i+1)*num_instances] = i\n"
      ],
      "metadata": {
        "id": "kUPRVgKxIdnQ"
      },
      "execution_count": null,
      "outputs": []
    },
    {
      "cell_type": "code",
      "source": [
        "# Load data from files\n",
        "X_fou = data1\n",
        "X_fac = data2\n",
        "X_mor = data3"
      ],
      "metadata": {
        "id": "9z0d4dciIfN6"
      },
      "execution_count": null,
      "outputs": []
    },
    {
      "cell_type": "code",
      "source": [
        "# Concatenate features into a single array\n",
        "X = np.concatenate((X_fou, X_fac, X_mor), axis=1)"
      ],
      "metadata": {
        "id": "DMXGl6UqI1ir"
      },
      "execution_count": null,
      "outputs": []
    },
    {
      "cell_type": "code",
      "source": [
        "# Create target variable\n",
        "y = np.zeros(num_instances * 10, dtype=int)"
      ],
      "metadata": {
        "id": "k0vBjZGdI3Fg"
      },
      "execution_count": null,
      "outputs": []
    },
    {
      "cell_type": "code",
      "source": [
        "for i in range(10):\n",
        "    y[i*num_instances:(i+1)*num_instances] = i"
      ],
      "metadata": {
        "id": "MyyQbjNUI6Jw"
      },
      "execution_count": null,
      "outputs": []
    },
    {
      "cell_type": "code",
      "source": [
        "# Define logistic regression pipeline with standard scaling and L2 regularization\n",
        "pipe_lr = Pipeline([\n",
        "    ('scaler', StandardScaler()),\n",
        "    ('clf', LogisticRegression(penalty='l2', multi_class='ovr', solver='liblinear', max_iter=1000))\n",
        "])"
      ],
      "metadata": {
        "id": "GU8jySYEI7nx"
      },
      "execution_count": null,
      "outputs": []
    },
    {
      "cell_type": "code",
      "source": [
        "# Define hyperparameters for grid search\n",
        "param_grid_lr = {\n",
        "    'clf__C': [0.01, 0.1, 1, 10, 100],\n",
        "}"
      ],
      "metadata": {
        "id": "sHoIic1jI9H1"
      },
      "execution_count": null,
      "outputs": []
    },
    {
      "cell_type": "code",
      "source": [
        "# Define cross-validation strategy\n",
        "cv = StratifiedKFold(n_splits=10, shuffle=True, random_state=42)"
      ],
      "metadata": {
        "id": "OoWdEmVcI_LH"
      },
      "execution_count": null,
      "outputs": []
    },
    {
      "cell_type": "code",
      "source": [
        "# Perform grid search with cross-validation\n",
        "grid_search_lr = GridSearchCV(pipe_lr, param_grid=param_grid_lr, cv=cv, scoring='accuracy')\n",
        "grid_search_lr.fit(X, y)"
      ],
      "metadata": {
        "id": "PBON3KG0JA19",
        "colab": {
          "base_uri": "https://localhost:8080/",
          "height": 150
        },
        "outputId": "4d1924c0-2a03-4b8c-a728-a2f751e50adb"
      },
      "execution_count": null,
      "outputs": [
        {
          "output_type": "execute_result",
          "data": {
            "text/plain": [
              "GridSearchCV(cv=StratifiedKFold(n_splits=10, random_state=42, shuffle=True),\n",
              "             estimator=Pipeline(steps=[('scaler', StandardScaler()),\n",
              "                                       ('clf',\n",
              "                                        LogisticRegression(max_iter=1000,\n",
              "                                                           multi_class='ovr',\n",
              "                                                           solver='liblinear'))]),\n",
              "             param_grid={'clf__C': [0.01, 0.1, 1, 10, 100]},\n",
              "             scoring='accuracy')"
            ],
            "text/html": [
              "<style>#sk-container-id-1 {color: black;background-color: white;}#sk-container-id-1 pre{padding: 0;}#sk-container-id-1 div.sk-toggleable {background-color: white;}#sk-container-id-1 label.sk-toggleable__label {cursor: pointer;display: block;width: 100%;margin-bottom: 0;padding: 0.3em;box-sizing: border-box;text-align: center;}#sk-container-id-1 label.sk-toggleable__label-arrow:before {content: \"▸\";float: left;margin-right: 0.25em;color: #696969;}#sk-container-id-1 label.sk-toggleable__label-arrow:hover:before {color: black;}#sk-container-id-1 div.sk-estimator:hover label.sk-toggleable__label-arrow:before {color: black;}#sk-container-id-1 div.sk-toggleable__content {max-height: 0;max-width: 0;overflow: hidden;text-align: left;background-color: #f0f8ff;}#sk-container-id-1 div.sk-toggleable__content pre {margin: 0.2em;color: black;border-radius: 0.25em;background-color: #f0f8ff;}#sk-container-id-1 input.sk-toggleable__control:checked~div.sk-toggleable__content {max-height: 200px;max-width: 100%;overflow: auto;}#sk-container-id-1 input.sk-toggleable__control:checked~label.sk-toggleable__label-arrow:before {content: \"▾\";}#sk-container-id-1 div.sk-estimator input.sk-toggleable__control:checked~label.sk-toggleable__label {background-color: #d4ebff;}#sk-container-id-1 div.sk-label input.sk-toggleable__control:checked~label.sk-toggleable__label {background-color: #d4ebff;}#sk-container-id-1 input.sk-hidden--visually {border: 0;clip: rect(1px 1px 1px 1px);clip: rect(1px, 1px, 1px, 1px);height: 1px;margin: -1px;overflow: hidden;padding: 0;position: absolute;width: 1px;}#sk-container-id-1 div.sk-estimator {font-family: monospace;background-color: #f0f8ff;border: 1px dotted black;border-radius: 0.25em;box-sizing: border-box;margin-bottom: 0.5em;}#sk-container-id-1 div.sk-estimator:hover {background-color: #d4ebff;}#sk-container-id-1 div.sk-parallel-item::after {content: \"\";width: 100%;border-bottom: 1px solid gray;flex-grow: 1;}#sk-container-id-1 div.sk-label:hover label.sk-toggleable__label {background-color: #d4ebff;}#sk-container-id-1 div.sk-serial::before {content: \"\";position: absolute;border-left: 1px solid gray;box-sizing: border-box;top: 0;bottom: 0;left: 50%;z-index: 0;}#sk-container-id-1 div.sk-serial {display: flex;flex-direction: column;align-items: center;background-color: white;padding-right: 0.2em;padding-left: 0.2em;position: relative;}#sk-container-id-1 div.sk-item {position: relative;z-index: 1;}#sk-container-id-1 div.sk-parallel {display: flex;align-items: stretch;justify-content: center;background-color: white;position: relative;}#sk-container-id-1 div.sk-item::before, #sk-container-id-1 div.sk-parallel-item::before {content: \"\";position: absolute;border-left: 1px solid gray;box-sizing: border-box;top: 0;bottom: 0;left: 50%;z-index: -1;}#sk-container-id-1 div.sk-parallel-item {display: flex;flex-direction: column;z-index: 1;position: relative;background-color: white;}#sk-container-id-1 div.sk-parallel-item:first-child::after {align-self: flex-end;width: 50%;}#sk-container-id-1 div.sk-parallel-item:last-child::after {align-self: flex-start;width: 50%;}#sk-container-id-1 div.sk-parallel-item:only-child::after {width: 0;}#sk-container-id-1 div.sk-dashed-wrapped {border: 1px dashed gray;margin: 0 0.4em 0.5em 0.4em;box-sizing: border-box;padding-bottom: 0.4em;background-color: white;}#sk-container-id-1 div.sk-label label {font-family: monospace;font-weight: bold;display: inline-block;line-height: 1.2em;}#sk-container-id-1 div.sk-label-container {text-align: center;}#sk-container-id-1 div.sk-container {/* jupyter's `normalize.less` sets `[hidden] { display: none; }` but bootstrap.min.css set `[hidden] { display: none !important; }` so we also need the `!important` here to be able to override the default hidden behavior on the sphinx rendered scikit-learn.org. See: https://github.com/scikit-learn/scikit-learn/issues/21755 */display: inline-block !important;position: relative;}#sk-container-id-1 div.sk-text-repr-fallback {display: none;}</style><div id=\"sk-container-id-1\" class=\"sk-top-container\"><div class=\"sk-text-repr-fallback\"><pre>GridSearchCV(cv=StratifiedKFold(n_splits=10, random_state=42, shuffle=True),\n",
              "             estimator=Pipeline(steps=[(&#x27;scaler&#x27;, StandardScaler()),\n",
              "                                       (&#x27;clf&#x27;,\n",
              "                                        LogisticRegression(max_iter=1000,\n",
              "                                                           multi_class=&#x27;ovr&#x27;,\n",
              "                                                           solver=&#x27;liblinear&#x27;))]),\n",
              "             param_grid={&#x27;clf__C&#x27;: [0.01, 0.1, 1, 10, 100]},\n",
              "             scoring=&#x27;accuracy&#x27;)</pre><b>In a Jupyter environment, please rerun this cell to show the HTML representation or trust the notebook. <br />On GitHub, the HTML representation is unable to render, please try loading this page with nbviewer.org.</b></div><div class=\"sk-container\" hidden><div class=\"sk-item sk-dashed-wrapped\"><div class=\"sk-label-container\"><div class=\"sk-label sk-toggleable\"><input class=\"sk-toggleable__control sk-hidden--visually\" id=\"sk-estimator-id-1\" type=\"checkbox\" ><label for=\"sk-estimator-id-1\" class=\"sk-toggleable__label sk-toggleable__label-arrow\">GridSearchCV</label><div class=\"sk-toggleable__content\"><pre>GridSearchCV(cv=StratifiedKFold(n_splits=10, random_state=42, shuffle=True),\n",
              "             estimator=Pipeline(steps=[(&#x27;scaler&#x27;, StandardScaler()),\n",
              "                                       (&#x27;clf&#x27;,\n",
              "                                        LogisticRegression(max_iter=1000,\n",
              "                                                           multi_class=&#x27;ovr&#x27;,\n",
              "                                                           solver=&#x27;liblinear&#x27;))]),\n",
              "             param_grid={&#x27;clf__C&#x27;: [0.01, 0.1, 1, 10, 100]},\n",
              "             scoring=&#x27;accuracy&#x27;)</pre></div></div></div><div class=\"sk-parallel\"><div class=\"sk-parallel-item\"><div class=\"sk-item\"><div class=\"sk-label-container\"><div class=\"sk-label sk-toggleable\"><input class=\"sk-toggleable__control sk-hidden--visually\" id=\"sk-estimator-id-2\" type=\"checkbox\" ><label for=\"sk-estimator-id-2\" class=\"sk-toggleable__label sk-toggleable__label-arrow\">estimator: Pipeline</label><div class=\"sk-toggleable__content\"><pre>Pipeline(steps=[(&#x27;scaler&#x27;, StandardScaler()),\n",
              "                (&#x27;clf&#x27;,\n",
              "                 LogisticRegression(max_iter=1000, multi_class=&#x27;ovr&#x27;,\n",
              "                                    solver=&#x27;liblinear&#x27;))])</pre></div></div></div><div class=\"sk-serial\"><div class=\"sk-item\"><div class=\"sk-serial\"><div class=\"sk-item\"><div class=\"sk-estimator sk-toggleable\"><input class=\"sk-toggleable__control sk-hidden--visually\" id=\"sk-estimator-id-3\" type=\"checkbox\" ><label for=\"sk-estimator-id-3\" class=\"sk-toggleable__label sk-toggleable__label-arrow\">StandardScaler</label><div class=\"sk-toggleable__content\"><pre>StandardScaler()</pre></div></div></div><div class=\"sk-item\"><div class=\"sk-estimator sk-toggleable\"><input class=\"sk-toggleable__control sk-hidden--visually\" id=\"sk-estimator-id-4\" type=\"checkbox\" ><label for=\"sk-estimator-id-4\" class=\"sk-toggleable__label sk-toggleable__label-arrow\">LogisticRegression</label><div class=\"sk-toggleable__content\"><pre>LogisticRegression(max_iter=1000, multi_class=&#x27;ovr&#x27;, solver=&#x27;liblinear&#x27;)</pre></div></div></div></div></div></div></div></div></div></div></div></div>"
            ]
          },
          "metadata": {},
          "execution_count": 17
        }
      ]
    },
    {
      "cell_type": "code",
      "source": [
        "# Print best hyperparameters and cross-validation accuracy\n",
        "print('Best hyperparameters:', grid_search_lr.best_params_)\n",
        "print('Cross-validation accuracy:', grid_search_lr.best_score_)"
      ],
      "metadata": {
        "colab": {
          "base_uri": "https://localhost:8080/"
        },
        "id": "yEFgcVRgJCYL",
        "outputId": "65ab7c95-af56-4b51-b00e-7678d1195ffd"
      },
      "execution_count": null,
      "outputs": [
        {
          "output_type": "stream",
          "name": "stdout",
          "text": [
            "Best hyperparameters: {'clf__C': 0.1}\n",
            "Cross-validation accuracy: 0.9849999999999998\n"
          ]
        }
      ]
    },
    {
      "cell_type": "code",
      "source": [
        "from sklearn.metrics import classification_report\n",
        "\n",
        "# Predict classes using the best estimator found by grid search\n",
        "y_pred = grid_search_lr.best_estimator_.predict(X)\n",
        "\n",
        "# Generate classification report\n",
        "print(classification_report(y, y_pred))"
      ],
      "metadata": {
        "colab": {
          "base_uri": "https://localhost:8080/"
        },
        "id": "bfD3FnNyuJNO",
        "outputId": "40f5b82f-57e9-4330-be9f-e231840b52a3"
      },
      "execution_count": null,
      "outputs": [
        {
          "output_type": "stream",
          "name": "stdout",
          "text": [
            "              precision    recall  f1-score   support\n",
            "\n",
            "           0       1.00      1.00      1.00       200\n",
            "           1       0.99      1.00      1.00       200\n",
            "           2       1.00      1.00      1.00       200\n",
            "           3       0.99      0.99      0.99       200\n",
            "           4       1.00      1.00      1.00       200\n",
            "           5       1.00      0.99      1.00       200\n",
            "           6       1.00      1.00      1.00       200\n",
            "           7       1.00      1.00      1.00       200\n",
            "           8       1.00      1.00      1.00       200\n",
            "           9       1.00      0.99      1.00       200\n",
            "\n",
            "    accuracy                           1.00      2000\n",
            "   macro avg       1.00      1.00      1.00      2000\n",
            "weighted avg       1.00      1.00      1.00      2000\n",
            "\n"
          ]
        }
      ]
    },
    {
      "cell_type": "code",
      "source": [],
      "metadata": {
        "id": "tnMbxldDuQUz"
      },
      "execution_count": null,
      "outputs": []
    }
  ],
  "metadata": {
    "colab": {
      "provenance": []
    },
    "gist": {
      "data": {
        "description": "Desktop/Side_projects/datacamp_exercises/Predicting Credit Card Approvals/predicting_credit_card_approval.ipynb",
        "public": false
      },
      "id": ""
    },
    "kernelspec": {
      "display_name": "Python 3 (ipykernel)",
      "language": "python",
      "name": "python3"
    },
    "language_info": {
      "codemirror_mode": {
        "name": "ipython",
        "version": 3
      },
      "file_extension": ".py",
      "mimetype": "text/x-python",
      "name": "python",
      "nbconvert_exporter": "python",
      "pygments_lexer": "ipython3",
      "version": "3.9.13"
    }
  },
  "nbformat": 4,
  "nbformat_minor": 0
}